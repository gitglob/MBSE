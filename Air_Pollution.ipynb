{
 "cells": [
  {
   "cell_type": "code",
   "execution_count": 1,
   "id": "476767dd",
   "metadata": {},
   "outputs": [],
   "source": [
    "# class that contains all the grid cells\n",
    "class grid():\n",
    "    def __init__(x,y,z,item):\n",
    "        self.x = x # x coordinate\n",
    "        self.y = y # y coordinate\n",
    "        self.z = z # z coordinate\n",
    "        self.item = item # what kind of item this cell contains"
   ]
  },
  {
   "cell_type": "code",
   "execution_count": 2,
   "id": "627ddb5f",
   "metadata": {},
   "outputs": [],
   "source": [
    "# car objects\n",
    "class vehicle():\n",
    "    def __init__(x,y,z, fuel_type, speed):\n",
    "        self.x = x # x coordinate\n",
    "        self.y = y # y coordinate\n",
    "        self.z = z # z coordinate\n",
    "        self.fuel_type = fuel_type\n",
    "        self.speed = speed"
   ]
  },
  {
   "cell_type": "code",
   "execution_count": 3,
   "id": "2f7858de",
   "metadata": {},
   "outputs": [],
   "source": [
    "# building objects\n",
    "class building():\n",
    "    def __init__(x,y,z, sensor_flag):\n",
    "        self.x = x # x coordinate\n",
    "        self.y = y # y coordinate\n",
    "        self.z = z # z coordinate\n",
    "        self.sensor_flag = sensor_flag"
   ]
  },
  {
   "cell_type": "code",
   "execution_count": null,
   "id": "e2483d99",
   "metadata": {},
   "outputs": [],
   "source": [
    "# road object\n",
    "class road():\n",
    "    def __init__(x,y,z, speed_limit):\n",
    "        self.x = x # x coordinate\n",
    "        self.y = y # y coordinate\n",
    "        self.z = z # z coordinate\n",
    "        self.speed_limit = speed_limit"
   ]
  }
 ],
 "metadata": {
  "kernelspec": {
   "display_name": "Python 3 (ipykernel)",
   "language": "python",
   "name": "python3"
  },
  "language_info": {
   "codemirror_mode": {
    "name": "ipython",
    "version": 3
   },
   "file_extension": ".py",
   "mimetype": "text/x-python",
   "name": "python",
   "nbconvert_exporter": "python",
   "pygments_lexer": "ipython3",
   "version": "3.8.11"
  }
 },
 "nbformat": 4,
 "nbformat_minor": 5
}
