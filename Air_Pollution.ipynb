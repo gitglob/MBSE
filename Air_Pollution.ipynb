{
 "cells": [
  {
   "cell_type": "markdown",
   "id": "a740e47d",
   "metadata": {},
   "source": [
    "# Initialize the objects"
   ]
  },
  {
   "cell_type": "code",
   "execution_count": 4,
   "id": "476767dd",
   "metadata": {},
   "outputs": [],
   "source": [
    "# class that contains all the grid cells\n",
    "class grid_cell():\n",
    "    def __init__(self, x,y,z):\n",
    "        self.x = x # x coordinate\n",
    "        self.y = y # y coordinate\n",
    "        self.z = z # z coordinate\n",
    "        self.building_flag = False\n",
    "        self.tree_flag = False\n",
    "        self.car_flag = False\n",
    "        self.road_flag = False\n",
    "        self.item = None\n",
    "        self.co2 = None"
   ]
  },
  {
   "cell_type": "code",
   "execution_count": 5,
   "id": "a9e22c83",
   "metadata": {},
   "outputs": [],
   "source": [
    "# class for the entire grid\n",
    "class grid():\n",
    "    def __init__(self):\n",
    "        self.rows = 20;\n",
    "        self.cols = 20;\n",
    "        self.height = 5;\n",
    "        \n",
    "        # initialize all the grid cells\n",
    "        self.grid3d = []\n",
    "        for i in range(0,self.rows):\n",
    "            self.grid3d.append([])\n",
    "            for j in range(0,self.cols):\n",
    "                self.grid3d[i].append([])\n",
    "                for k in range(0,self.height):\n",
    "                    self.grid3d[i][j].append([grid_cell(i,j,k)])"
   ]
  },
  {
   "cell_type": "code",
   "execution_count": 2,
   "id": "627ddb5f",
   "metadata": {},
   "outputs": [],
   "source": [
    "# car objects\n",
    "class vehicle():\n",
    "    def __init__(self, fuel_type, speed):\n",
    "        self.fuel_type = fuel_type\n",
    "        self.speed = speed\n",
    "        \n",
    "        self.co2 = 5;"
   ]
  },
  {
   "cell_type": "code",
   "execution_count": 3,
   "id": "2f7858de",
   "metadata": {},
   "outputs": [],
   "source": [
    "# building objects\n",
    "class building():\n",
    "    def __init__(self, sensor_flag, h):\n",
    "        self.sensor_flag = sensor_flag\n",
    "        self.height = h"
   ]
  },
  {
   "cell_type": "code",
   "execution_count": null,
   "id": "e2483d99",
   "metadata": {},
   "outputs": [],
   "source": [
    "# road object\n",
    "class road():\n",
    "    def __init__(self, speed_limit):\n",
    "        self.speed_limit = speed_limit"
   ]
  },
  {
   "cell_type": "code",
   "execution_count": null,
   "id": "11ba3522",
   "metadata": {},
   "outputs": [],
   "source": []
  },
  {
   "cell_type": "markdown",
   "id": "54e225a1",
   "metadata": {},
   "source": [
    "# Initialize the environment"
   ]
  },
  {
   "cell_type": "code",
   "execution_count": 6,
   "id": "69719af8",
   "metadata": {},
   "outputs": [],
   "source": [
    "# initialize the entire grid\n",
    "city = grid();"
   ]
  },
  {
   "cell_type": "code",
   "execution_count": 9,
   "id": "487c22e7",
   "metadata": {},
   "outputs": [
    {
     "name": "stdout",
     "output_type": "stream",
     "text": [
      "20 20 4\n"
     ]
    }
   ],
   "source": [
    "print(len(city.grid3d), len(city.grid3d[0]), len(city.grid3d[0][0]))"
   ]
  },
  {
   "cell_type": "markdown",
   "id": "a7972216",
   "metadata": {},
   "source": [
    "## Initialize the roads"
   ]
  },
  {
   "cell_type": "markdown",
   "id": "5e86e205",
   "metadata": {},
   "source": [
    "### High roads"
   ]
  },
  {
   "cell_type": "code",
   "execution_count": null,
   "id": "25621d13",
   "metadata": {},
   "outputs": [],
   "source": [
    "# initialize the high roads\n",
    "for i in range(0,2):\n",
    "    for j in range(0,city.cols):\n",
    "        k = 0\n",
    "        city.grid3d[i][j][k].road_flag = True\n",
    "        city.grid3d[i][j][k].item = road()\n",
    "        city.grid3d[i][j][k].item.speed_limit = 90\n",
    "        \n",
    "for i in range(2,18):\n",
    "    for j in range(0,2):\n",
    "        k = 0\n",
    "        city.grid3d[i][j][k].road_flag = True\n",
    "        city.grid3d[i][j][k].item = road()\n",
    "        city.grid3d[i][j][k].item.speed_limit = 90\n",
    "        \n",
    "for i in range(2,18):\n",
    "    for j in range(18,20):\n",
    "        k = 0\n",
    "        city.grid3d[i][j][k].road_flag = True\n",
    "        city.grid3d[i][j][k].item = road()\n",
    "        city.grid3d[i][j][k].item.speed_limit = 90\n",
    "        \n",
    "for i in range(18,20):\n",
    "    for j in range(0,city.cols):\n",
    "        k = 0\n",
    "        city.grid3d[i][j][k].road_flag = True\n",
    "        city.grid3d[i][j][k].item = road()\n",
    "        city.grid3d[i][j][k].item.speed_limit = 90"
   ]
  },
  {
   "cell_type": "markdown",
   "id": "456de0c4",
   "metadata": {},
   "source": [
    "### Main city road"
   ]
  },
  {
   "cell_type": "code",
   "execution_count": null,
   "id": "56423b2e",
   "metadata": {},
   "outputs": [],
   "source": [
    "# initialize the main city road\n",
    "for i in range(2,18):\n",
    "    j = 11\n",
    "    k = 0\n",
    "    city.grid3d[i][j][k].road_flag = True\n",
    "    city.grid3d[i][j][k].item = road()\n",
    "    city.grid3d[i][j][k].item.speed_limit = 50"
   ]
  },
  {
   "cell_type": "markdown",
   "id": "7c84a885",
   "metadata": {},
   "source": [
    "### School roads"
   ]
  },
  {
   "cell_type": "code",
   "execution_count": null,
   "id": "9918afe2",
   "metadata": {},
   "outputs": [],
   "source": [
    "# initialize the school roads\n",
    "for i,j in [[5,3], [5,4], [5,5], [6,5], [7,5], [8,5], [9,5], [10,5], [11,5], [11,4], [11,3]]:\n",
    "    k = 0\n",
    "    city.grid3d[i][j][k].road_flag = True\n",
    "    city.grid3d[i][j][k].item = road()\n",
    "    city.grid3d[i][j][k].item.speed_limit = 20"
   ]
  },
  {
   "cell_type": "markdown",
   "id": "01fcfaa3",
   "metadata": {},
   "source": [
    "### Rest of city roads"
   ]
  },
  {
   "cell_type": "code",
   "execution_count": null,
   "id": "a4db90d1",
   "metadata": {},
   "outputs": [],
   "source": [
    "# horizontal roads\n",
    "for i in [4, 10, 15]:\n",
    "    for j in range(2,18):\n",
    "        k = 0\n",
    "        city.grid3d[i][j][k].road_flag = True\n",
    "        city.grid3d[i][j][k].item = road()\n",
    "        city.grid3d[i][j][k].item.speed_limit = 40"
   ]
  },
  {
   "cell_type": "code",
   "execution_count": null,
   "id": "ef93f5d8",
   "metadata": {},
   "outputs": [],
   "source": [
    "# lateral roads\n",
    "for i in range(2,18):\n",
    "    for j in [7, 10]:\n",
    "        k = 0\n",
    "        city.grid3d[i][j][k].road_flag = True\n",
    "        city.grid3d[i][j][k].item = road()\n",
    "        city.grid3d[i][j][k].item.speed_limit = 40"
   ]
  },
  {
   "cell_type": "markdown",
   "id": "bcea0b72",
   "metadata": {},
   "source": [
    "### City buildings"
   ]
  },
  {
   "cell_type": "code",
   "execution_count": null,
   "id": "4c00f180",
   "metadata": {},
   "outputs": [],
   "source": []
  },
  {
   "cell_type": "code",
   "execution_count": null,
   "id": "44ae1427",
   "metadata": {},
   "outputs": [],
   "source": []
  },
  {
   "cell_type": "markdown",
   "id": "95efa68e",
   "metadata": {},
   "source": [
    "### City trees"
   ]
  },
  {
   "cell_type": "code",
   "execution_count": null,
   "id": "fa8ec264",
   "metadata": {},
   "outputs": [],
   "source": []
  },
  {
   "cell_type": "code",
   "execution_count": null,
   "id": "95ac874a",
   "metadata": {},
   "outputs": [],
   "source": []
  },
  {
   "cell_type": "code",
   "execution_count": null,
   "id": "97ae393b",
   "metadata": {},
   "outputs": [],
   "source": []
  },
  {
   "cell_type": "markdown",
   "id": "fac2135c",
   "metadata": {},
   "source": [
    "# Simulation functions"
   ]
  },
  {
   "cell_type": "code",
   "execution_count": null,
   "id": "e591aec7",
   "metadata": {},
   "outputs": [],
   "source": [
    "# calculate the CO2\n",
    "def calculate_co2():\n",
    "    # calculate car emissions\n",
    "    co2_sum = 0\n",
    "    for i in city.rows:\n",
    "        for j in city.cols:\n",
    "            for k in city.height:\n",
    "                if city.grid3d[i][j][k].car_flag:\n",
    "                    co2_sum += city.grid3d[i][j][k].co2"
   ]
  },
  {
   "cell_type": "code",
   "execution_count": null,
   "id": "82c1d102",
   "metadata": {},
   "outputs": [],
   "source": [
    "# apply wind effect\n",
    "def apply_wind():\n",
    "    for i in city.rows:\n",
    "        for j in city.cols:\n",
    "            for k in city.height:\n",
    "                if city.grid3d[i][j][k].co2:\n",
    "                    "
   ]
  },
  {
   "cell_type": "code",
   "execution_count": null,
   "id": "09bfc467",
   "metadata": {},
   "outputs": [],
   "source": [
    "# apply air dispersion dynamics\n",
    "def apply_co2_dispersion():\n",
    "    for i in city.rows:\n",
    "        for j in city.cols:\n",
    "            for k in city.height:\n",
    "                if city.grid3d[i][j][k].co2:\n"
   ]
  },
  {
   "cell_type": "code",
   "execution_count": null,
   "id": "80407e7a",
   "metadata": {},
   "outputs": [],
   "source": []
  },
  {
   "cell_type": "markdown",
   "id": "e3a1e682",
   "metadata": {},
   "source": [
    "# Run the simulation"
   ]
  },
  {
   "cell_type": "code",
   "execution_count": null,
   "id": "ec0fb776",
   "metadata": {},
   "outputs": [],
   "source": [
    "simulation_flag = True\n",
    "\n",
    "# run the simulation\n",
    "iteration = -1\n",
    "while (simulation_flag):\n",
    "    iteration +=1\n",
    "    print(\"iteration # \", iteration)\n",
    "    \n",
    "    # iterate over the entire grid\n",
    "    calculate_co2()\n",
    "    \n",
    "    # calculate wind effect\n",
    "    apply_wind()\n",
    "    \n",
    "    # apply dispersion\n",
    "    apply_co2_dispersion()\n",
    "                "
   ]
  }
 ],
 "metadata": {
  "kernelspec": {
   "display_name": "Python 3 (ipykernel)",
   "language": "python",
   "name": "python3"
  },
  "language_info": {
   "codemirror_mode": {
    "name": "ipython",
    "version": 3
   },
   "file_extension": ".py",
   "mimetype": "text/x-python",
   "name": "python",
   "nbconvert_exporter": "python",
   "pygments_lexer": "ipython3",
   "version": "3.8.11"
  }
 },
 "nbformat": 4,
 "nbformat_minor": 5
}
